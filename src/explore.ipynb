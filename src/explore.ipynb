{
    "cells": [
        {
            "cell_type": "markdown",
            "metadata": {},
            "source": [
                "# Explore here"
            ]
        },
        {
            "cell_type": "code",
            "execution_count": 1,
            "metadata": {},
            "outputs": [],
            "source": [
                "# Your code here\n",
                "# Import Packages\n",
                "import os\n",
                "import numpy as np\n",
                "import matplotlib.pyplot as plt\n",
                "from tensorflow import keras\n",
                "from keras.preprocessing import image"
            ]
        },
        {
            "cell_type": "code",
            "execution_count": 2,
            "metadata": {},
            "outputs": [
                {
                    "name": "stdout",
                    "output_type": "stream",
                    "text": [
                        "Buscando imágenes en: C:\\Users\\aguil\\OneDrive\\Desktop\\dog and cat\\train\\train\n",
                        "Error cargando C:\\Users\\aguil\\OneDrive\\Desktop\\dog and cat\\train\\train\\dog: [Errno 13] Permission denied: 'C:\\\\Users\\\\aguil\\\\OneDrive\\\\Desktop\\\\dog and cat\\\\train\\\\train\\\\dog'\n"
                    ]
                },
                {
                    "data": {
                        "text/plain": [
                            "<Figure size 1200x800 with 0 Axes>"
                        ]
                    },
                    "metadata": {},
                    "output_type": "display_data"
                }
            ],
            "source": [
                "\n",
                "\n",
                "# 1. Ruta a la carpeta donde están TODAS las imágenes mezcladas\n",
                "data_dir = r\"C:\\Users\\aguil\\OneDrive\\Desktop\\dog and cat\\train\\train\"\n",
                "print(f\"Buscando imágenes en: {data_dir}\")\n",
                "\n",
                "# 2. Filtrar SOLO archivos de perros (asumiendo que tienen 'dog' en el nombre)\n",
                "all_files = os.listdir(data_dir)\n",
                "dog_files = [f for f in all_files if 'dog' in f.lower()]  # Ejemplo: 'dog.1245.jpg'\n",
                "\n",
                "if not dog_files:\n",
                "    print(\"¡No se encontraron imágenes de perros!\")\n",
                "    print(f\"Archivos encontrados: {all_files[:5]}...\")  # Muestra primeros 5 archivos\n",
                "else:\n",
                "    # 3. Cargar las primeras 9 imágenes de perros\n",
                "    dog_images = []\n",
                "    plt.figure(figsize=(12, 8))\n",
                "    \n",
                "    for i in range(min(9, len(dog_files))):  # Máximo 9 imágenes\n",
                "        try:\n",
                "            img_path = os.path.join(data_dir, dog_files[i])\n",
                "            img = image.load_img(img_path, target_size=(224, 224))\n",
                "            img_array = image.img_to_array(img) / 255.0\n",
                "            \n",
                "            plt.subplot(3, 3, i+1)\n",
                "            plt.imshow(img_array)\n",
                "            plt.title(f'Perro {i+1}')\n",
                "            plt.axis('off')\n",
                "            \n",
                "        except Exception as e:\n",
                "            print(f\"Error cargando {img_path}: {str(e)}\")\n",
                "    \n",
                "    plt.tight_layout()\n",
                "    plt.show()"
            ]
        },
        {
            "cell_type": "code",
            "execution_count": 3,
            "metadata": {},
            "outputs": [
                {
                    "name": "stdout",
                    "output_type": "stream",
                    "text": [
                        "Buscando imágenes en: C:\\Users\\aguil\\OneDrive\\Desktop\\dog and cat\\train\\train\n",
                        "Error cargando C:\\Users\\aguil\\OneDrive\\Desktop\\dog and cat\\train\\train\\cat: [Errno 13] Permission denied: 'C:\\\\Users\\\\aguil\\\\OneDrive\\\\Desktop\\\\dog and cat\\\\train\\\\train\\\\cat'\n"
                    ]
                },
                {
                    "data": {
                        "text/plain": [
                            "<Figure size 1200x800 with 0 Axes>"
                        ]
                    },
                    "metadata": {},
                    "output_type": "display_data"
                }
            ],
            "source": [
                "\n",
                "# 1. Ruta a la carpeta donde están TODAS las imágenes mezcladas\n",
                "data_dir = r\"C:\\Users\\aguil\\OneDrive\\Desktop\\dog and cat\\train\\train\"\n",
                "print(f\"Buscando imágenes en: {data_dir}\")\n",
                "\n",
                "# 2. Filtrar SOLO archivos de gatos (asumiendo que tienen 'cat' en el nombre)\n",
                "all_files = os.listdir(data_dir)\n",
                "cat_files = [f for f in all_files if 'cat' in f.lower()]  # Ejemplo: 'cat.1245.jpg'\n",
                "\n",
                "if not cat_files:\n",
                "    print(\"¡No se encontraron imágenes de gatos!\")\n",
                "    print(f\"Archivos encontrados: {all_files[:5]}...\")  # Muestra primeros 5 archivos\n",
                "else:\n",
                "    # 3. Cargar las primeras 9 imágenes de gatos\n",
                "    cat_images = []\n",
                "    plt.figure(figsize=(12, 8))\n",
                "    \n",
                "    for i in range(min(9, len(cat_files))):  # Máximo 9 imágenes\n",
                "        try:\n",
                "            img_path = os.path.join(data_dir, cat_files[i])\n",
                "            img = image.load_img(img_path, target_size=(224, 224))\n",
                "            img_array = image.img_to_array(img) / 255.0\n",
                "            \n",
                "            plt.subplot(3, 3, i+1)\n",
                "            plt.imshow(img_array)\n",
                "            plt.title(f'Gato {i+1}')\n",
                "            plt.axis('off')\n",
                "            \n",
                "        except Exception as e:\n",
                "            print(f\"Error cargando {img_path}: {str(e)}\")\n",
                "    \n",
                "    plt.suptitle('Primeras 9 imágenes de gatos encontradas', y=1.05)\n",
                "    plt.tight_layout()\n",
                "    plt.show()"
            ]
        },
        {
            "cell_type": "code",
            "execution_count": 4,
            "metadata": {},
            "outputs": [
                {
                    "name": "stdout",
                    "output_type": "stream",
                    "text": [
                        "Found 20000 images belonging to 2 classes.\n",
                        "Found 5000 images belonging to 2 classes.\n",
                        "Found 12500 images belonging to 1 classes.\n"
                    ]
                }
            ],
            "source": [
                "from tensorflow.keras.preprocessing.image import ImageDataGenerator\n",
                "\n",
                "# Definir algunas reglas para DataGen\n",
                "train_dir = r\"C:\\Users\\aguil\\OneDrive\\Desktop\\dog and cat\\train\\train\"\n",
                "image_size = (200, 200)\n",
                "\n",
                "datagentrain = ImageDataGenerator(rescale = 1./255 , validation_split = 0.2)\n",
                "datagentest = ImageDataGenerator(rescale = 1./255)\n",
                "\n",
                "# Generación de datos de entrenamiento\n",
                "train_data = datagentrain.flow_from_directory(\n",
                "    train_dir,\n",
                "    target_size = (200, 200),\n",
                "    classes = [\"dog\", \"cat\"], subset = \"training\"\n",
                ")\n",
                "val_data = datagentrain.flow_from_directory(\n",
                "    train_dir,\n",
                "    target_size = (200, 200),\n",
                "    classes = [\"dog\", \"cat\"], subset = \"validation\"\n",
                ")\n",
                "\n",
                "# Generación de datos de prueba\n",
                "test_dir = (r\"C:\\Users\\aguil\\OneDrive\\Desktop\\dog and cat\\test1\")\n",
                "test_data = datagentest.flow_from_directory(\n",
                "    test_dir,\n",
                "    target_size = image_size,\n",
                "    classes = [\"test1\"] \n",
                ")"
            ]
        },
        {
            "cell_type": "code",
            "execution_count": 5,
            "metadata": {},
            "outputs": [
                {
                    "name": "stdout",
                    "output_type": "stream",
                    "text": [
                        "(200, 200, 3)\n"
                    ]
                }
            ],
            "source": [
                "print(train_data.image_shape)  # Debe coincidir con el input_shape del modelo"
            ]
        },
        {
            "cell_type": "code",
            "execution_count": 6,
            "metadata": {},
            "outputs": [
                {
                    "name": "stderr",
                    "output_type": "stream",
                    "text": [
                        "C:\\Users\\aguil\\AppData\\Local\\Packages\\PythonSoftwareFoundation.Python.3.11_qbz5n2kfra8p0\\LocalCache\\local-packages\\Python311\\site-packages\\keras\\src\\layers\\convolutional\\base_conv.py:107: UserWarning: Do not pass an `input_shape`/`input_dim` argument to a layer. When using Sequential models, prefer using an `Input(shape)` object as the first layer in the model instead.\n",
                        "  super().__init__(activity_regularizer=activity_regularizer, **kwargs)\n"
                    ]
                }
            ],
            "source": [
                "# Mover los datos a través de la red neuronal\n",
                "from keras.models import Sequential\n",
                "from keras.layers import Dense, Conv2D, MaxPool2D , Flatten\n",
                "\n",
                "model = Sequential()\n",
                "model.add(Conv2D(input_shape = (200,200,3), filters = 64, kernel_size = (3,3), padding = \"same\", activation = \"relu\"))\n",
                "model.add(Conv2D(filters = 64,kernel_size = (3,3),padding = \"same\", activation = \"relu\"))\n",
                "model.add(MaxPool2D(pool_size = (2,2),strides = (2,2)))\n",
                "model.add(Conv2D(filters = 128, kernel_size = (3,3), padding = \"same\", activation = \"relu\"))\n",
                "model.add(Conv2D(filters = 128, kernel_size = (3,3), padding = \"same\", activation = \"relu\"))\n",
                "model.add(MaxPool2D(pool_size = (2,2),strides = (2,2)))\n",
                "model.add(Conv2D(filters = 256, kernel_size = (3,3), padding = \"same\", activation = \"relu\"))\n",
                "model.add(Conv2D(filters = 256, kernel_size = (3,3), padding = \"same\", activation = \"relu\"))\n",
                "model.add(Conv2D(filters = 256, kernel_size = (3,3), padding = \"same\", activation = \"relu\"))\n",
                "model.add(MaxPool2D(pool_size = (2,2),strides = (2,2)))\n",
                "model.add(Conv2D(filters = 512, kernel_size = (3,3), padding = \"same\", activation = \"relu\"))\n",
                "model.add(Conv2D(filters = 512, kernel_size = (3,3), padding = \"same\", activation = \"relu\"))\n",
                "model.add(Conv2D(filters = 512, kernel_size = (3,3), padding = \"same\", activation = \"relu\"))\n",
                "model.add(MaxPool2D(pool_size = (2,2),strides = (2,2)))\n",
                "model.add(Conv2D(filters = 512, kernel_size = (3,3), padding = \"same\", activation = \"relu\"))\n",
                "model.add(Conv2D(filters = 512, kernel_size = (3,3), padding = \"same\", activation = \"relu\"))\n",
                "model.add(Conv2D(filters = 512, kernel_size = (3,3), padding = \"same\", activation = \"relu\"))\n",
                "model.add(MaxPool2D(pool_size = (2,2),strides = (2,2)))\n",
                "\n",
                "# Mover los datos por las capas densas\n",
                "model.add(Flatten())\n",
                "model.add(Dense(units = 4096,activation = \"relu\"))\n",
                "model.add(Dense(units = 4096,activation = \"relu\"))\n",
                "model.add(Dense(units = 2, activation = \"softmax\"))"
            ]
        },
        {
            "cell_type": "code",
            "execution_count": 7,
            "metadata": {},
            "outputs": [],
            "source": [
                "# Compilar el modelo con Adam \n",
                "from keras.optimizers import Adam\n",
                "\n",
                "# Compilar el modelo antes del entrenamiento\n",
                "#model.compile(loss='binary_crossentropy', optimizer = Adam(learning_rate = 0.001), metrics = [\"accuracy\"])\n",
                "model.compile(optimizer='adam', loss='categorical_crossentropy', metrics=['accuracy'])"
            ]
        },
        {
            "cell_type": "code",
            "execution_count": 8,
            "metadata": {},
            "outputs": [],
            "source": [
                "# Entrenar el modelo\n",
                "#model.fit(train_data, epochs = 1)"
            ]
        },
        {
            "cell_type": "code",
            "execution_count": 9,
            "metadata": {},
            "outputs": [],
            "source": [
                "# import os\n",
                "# import tensorflow as tf\n",
                "# from tensorflow.keras.preprocessing.image import ImageDataGenerator\n",
                "# from tensorflow.keras.callbacks import ModelCheckpoint, EarlyStopping\n",
                "\n",
                "# # 1. Reconfigura los generadores (elige UNA opción)\n",
                "# # Opción Binaria:\n",
                "# train_data = train_datagen.flow_from_directory(\n",
                "#     train_dir,\n",
                "#     class_mode='binary',\n",
                "#     # ... otros parámetros\n",
                "# )\n",
                "\n",
                "# # O Opción Categórica:\n",
                "# train_data = train_datagen.flow_from_directory(\n",
                "#     train_dir,\n",
                "#     class_mode='categorical',\n",
                "#     # ... otros parámetros\n",
                "# )\n",
                "\n",
                "# # 2. Ajusta tu modelo (elige UNA opción)\n",
                "# # Para binario:\n",
                "# model.add(tf.keras.layers.Dense(1, activation='sigmoid'))\n",
                "# model.compile(loss='binary_crossentropy', optimizer='adam', metrics=['accuracy'])\n",
                "\n",
                "# # Para categórico:\n",
                "# model.add(tf.keras.layers.Dense(2, activation='softmax'))\n",
                "# model.compile(loss='categorical_crossentropy', optimizer='adam', metrics=['accuracy'])\n",
                "\n",
                "# # 3. Verifica las formas\n",
                "# print(f\"Forma de las etiquetas: {train_data.labels.shape}\")\n",
                "# print(f\"Forma de salida del modelo: {model.output_shape}\")"
            ]
        },
        {
            "cell_type": "code",
            "execution_count": null,
            "metadata": {},
            "outputs": [],
            "source": []
        },
        {
            "cell_type": "code",
            "execution_count": null,
            "metadata": {},
            "outputs": [
                {
                    "name": "stderr",
                    "output_type": "stream",
                    "text": [
                        "C:\\Users\\aguil\\AppData\\Local\\Packages\\PythonSoftwareFoundation.Python.3.11_qbz5n2kfra8p0\\LocalCache\\local-packages\\Python311\\site-packages\\keras\\src\\trainers\\data_adapters\\py_dataset_adapter.py:121: UserWarning: Your `PyDataset` class should call `super().__init__(**kwargs)` in its constructor. `**kwargs` can include `workers`, `use_multiprocessing`, `max_queue_size`. Do not pass these arguments to `fit()`, as they will be ignored.\n",
                        "  self._warn_if_super_not_called()\n"
                    ]
                },
                {
                    "name": "stdout",
                    "output_type": "stream",
                    "text": [
                        "\u001b[1m479/625\u001b[0m \u001b[32m━━━━━━━━━━━━━━━\u001b[0m\u001b[37m━━━━━\u001b[0m \u001b[1m2:01:19\u001b[0m 50s/step - accuracy: 0.5019 - loss: 0.6940"
                    ]
                }
            ],
            "source": [
                "from tensorflow.keras.callbacks import ModelCheckpoint, EarlyStopping\n",
                "\n",
                "# Configura callbacks\n",
                "checkpoint = ModelCheckpoint(\"best_model.h5\", \n",
                "                           monitor='val_accuracy',\n",
                "                           save_best_only=True,\n",
                "                           mode='max')\n",
                "\n",
                "early = EarlyStopping(monitor='val_accuracy', \n",
                "                     patience=3,\n",
                "                     restore_best_weights=True)\n",
                "\n",
                "# Entrenamiento\n",
                "hist = model.fit(\n",
                "    train_data,\n",
                "    epochs = 1,\n",
                "    validation_data= val_data,\n",
                "    callbacks=[checkpoint, early]\n",
                ")\n",
                "\n",
                "# Ahora puedes graficar\n",
                "#plot_training_history(hist)  # Usa la función de graficado anterior\n"
            ]
        },
        {
            "cell_type": "markdown",
            "metadata": {},
            "source": [
                "He ejecutado solo 1 epoch porque me tarda 9 horas cada uno"
            ]
        },
        {
            "cell_type": "code",
            "execution_count": null,
            "metadata": {},
            "outputs": [
                {
                    "ename": "FileNotFoundError",
                    "evalue": "[Errno 2] No such file or directory: 'C:/Users/aguil/OneDrive/Desktop/dog and cat/train/train/9.jpg'",
                    "output_type": "error",
                    "traceback": [
                        "\u001b[1;31m---------------------------------------------------------------------------\u001b[0m",
                        "\u001b[1;31mFileNotFoundError\u001b[0m                         Traceback (most recent call last)",
                        "Cell \u001b[1;32mIn[18], line 4\u001b[0m\n\u001b[0;32m      1\u001b[0m \u001b[38;5;28;01mfrom\u001b[39;00m \u001b[38;5;21;01mkeras\u001b[39;00m\u001b[38;5;21;01m.\u001b[39;00m\u001b[38;5;21;01mpreprocessing\u001b[39;00m \u001b[38;5;28;01mimport\u001b[39;00m image\n\u001b[0;32m      2\u001b[0m \u001b[38;5;28;01mfrom\u001b[39;00m \u001b[38;5;21;01mkeras\u001b[39;00m\u001b[38;5;21;01m.\u001b[39;00m\u001b[38;5;21;01mmodels\u001b[39;00m \u001b[38;5;28;01mimport\u001b[39;00m load_model\n\u001b[1;32m----> 4\u001b[0m img \u001b[38;5;241m=\u001b[39m \u001b[43mimage\u001b[49m\u001b[38;5;241;43m.\u001b[39;49m\u001b[43mload_img\u001b[49m\u001b[43m \u001b[49m\u001b[43m(\u001b[49m\u001b[38;5;124;43mr\u001b[39;49m\u001b[38;5;124;43m'\u001b[39;49m\u001b[38;5;124;43mC:/Users/aguil/OneDrive/Desktop/dog and cat/train/train/9.jpg\u001b[39;49m\u001b[38;5;124;43m'\u001b[39;49m\u001b[43m,\u001b[49m\u001b[43m \u001b[49m\u001b[43mtarget_size\u001b[49m\u001b[43m \u001b[49m\u001b[38;5;241;43m=\u001b[39;49m\u001b[43m \u001b[49m\u001b[43m(\u001b[49m\u001b[38;5;241;43m200\u001b[39;49m\u001b[43m,\u001b[49m\u001b[43m \u001b[49m\u001b[38;5;241;43m200\u001b[39;49m\u001b[43m)\u001b[49m\u001b[43m)\u001b[49m\n\u001b[0;32m      5\u001b[0m img \u001b[38;5;241m=\u001b[39m np\u001b[38;5;241m.\u001b[39masarray(img)\n\u001b[0;32m      6\u001b[0m plt\u001b[38;5;241m.\u001b[39mimshow(img)\n",
                        "File \u001b[1;32m~\\AppData\\Local\\Packages\\PythonSoftwareFoundation.Python.3.11_qbz5n2kfra8p0\\LocalCache\\local-packages\\Python311\\site-packages\\keras\\src\\utils\\image_utils.py:235\u001b[0m, in \u001b[0;36mload_img\u001b[1;34m(path, color_mode, target_size, interpolation, keep_aspect_ratio)\u001b[0m\n\u001b[0;32m    233\u001b[0m     \u001b[38;5;28;01mif\u001b[39;00m \u001b[38;5;28misinstance\u001b[39m(path, pathlib\u001b[38;5;241m.\u001b[39mPath):\n\u001b[0;32m    234\u001b[0m         path \u001b[38;5;241m=\u001b[39m \u001b[38;5;28mstr\u001b[39m(path\u001b[38;5;241m.\u001b[39mresolve())\n\u001b[1;32m--> 235\u001b[0m     \u001b[38;5;28;01mwith\u001b[39;00m \u001b[38;5;28mopen\u001b[39m(path, \u001b[38;5;124m\"\u001b[39m\u001b[38;5;124mrb\u001b[39m\u001b[38;5;124m\"\u001b[39m) \u001b[38;5;28;01mas\u001b[39;00m f:\n\u001b[0;32m    236\u001b[0m         img \u001b[38;5;241m=\u001b[39m pil_image\u001b[38;5;241m.\u001b[39mopen(io\u001b[38;5;241m.\u001b[39mBytesIO(f\u001b[38;5;241m.\u001b[39mread()))\n\u001b[0;32m    237\u001b[0m \u001b[38;5;28;01melse\u001b[39;00m:\n",
                        "\u001b[1;31mFileNotFoundError\u001b[0m: [Errno 2] No such file or directory: 'C:/Users/aguil/OneDrive/Desktop/dog and cat/train/train/9.jpg'"
                    ]
                }
            ],
            "source": [
                "from keras.preprocessing import image\n",
                "from keras.models import load_model\n",
                "\n",
                "img = image.load_img (r'C:\\Users\\aguil\\OneDrive\\Desktop\\dog and cat\\test1\\test1\\9.jpg', target_size = (200, 200))\n",
                "img = np.asarray(img)\n",
                "plt.imshow(img)\n",
                "img = np.expand_dims(img, axis = 0)\n",
                "saved_model = load_model(\"best_model.h5\")\n",
                "output = saved_model.predict(img)\n",
                "if output[0][0] > output[0][1]:\n",
                "    print(\"cat\")\n",
                "else:\n",
                "    print(\"dog\")"
            ]
        }
    ],
    "metadata": {
        "kernelspec": {
            "display_name": "Python 3",
            "language": "python",
            "name": "python3"
        },
        "language_info": {
            "codemirror_mode": {
                "name": "ipython",
                "version": 3
            },
            "file_extension": ".py",
            "mimetype": "text/x-python",
            "name": "python",
            "nbconvert_exporter": "python",
            "pygments_lexer": "ipython3",
            "version": "3.11.9"
        },
        "orig_nbformat": 4
    },
    "nbformat": 4,
    "nbformat_minor": 2
}
